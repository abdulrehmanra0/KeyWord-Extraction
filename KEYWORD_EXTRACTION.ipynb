{
  "cells": [
    {
      "cell_type": "markdown",
      "metadata": {
        "id": "view-in-github",
        "colab_type": "text"
      },
      "source": [
        "<a href=\"https://colab.research.google.com/github/abdulrehmanra0/KeyWord-Extraction/blob/main/KEYWORD_EXTRACTION.ipynb\" target=\"_parent\"><img src=\"https://colab.research.google.com/assets/colab-badge.svg\" alt=\"Open In Colab\"/></a>"
      ]
    },
    {
      "cell_type": "markdown",
      "metadata": {
        "id": "MuXQkGilKWu7"
      },
      "source": [
        "Install dependencies"
      ]
    },
    {
      "cell_type": "code",
      "execution_count": 1,
      "metadata": {
        "id": "C-Nz_2A8Jos8",
        "colab": {
          "base_uri": "https://localhost:8080/"
        },
        "outputId": "7375b553-a55f-42dd-c38e-81669258f064"
      },
      "outputs": [
        {
          "output_type": "stream",
          "name": "stdout",
          "text": [
            "\u001b[2K     \u001b[90m━━━━━━━━━━━━━━━━━━━━━━━━━━━━━━━━━━━━━━━━\u001b[0m \u001b[32m281.3/281.3 MB\u001b[0m \u001b[31m2.2 MB/s\u001b[0m eta \u001b[36m0:00:00\u001b[0m\n",
            "\u001b[?25h  Preparing metadata (setup.py) ... \u001b[?25l\u001b[?25hdone\n",
            "\u001b[2K     \u001b[90m━━━━━━━━━━━━━━━━━━━━━━━━━━━━━━━━━━━━━━━━\u001b[0m \u001b[32m453.8/453.8 kB\u001b[0m \u001b[31m14.9 MB/s\u001b[0m eta \u001b[36m0:00:00\u001b[0m\n",
            "\u001b[2K     \u001b[90m━━━━━━━━━━━━━━━━━━━━━━━━━━━━━━━━━━━━━━━━\u001b[0m \u001b[32m199.7/199.7 kB\u001b[0m \u001b[31m11.2 MB/s\u001b[0m eta \u001b[36m0:00:00\u001b[0m\n",
            "\u001b[?25h  Building wheel for pyspark (setup.py) ... \u001b[?25l\u001b[?25hdone\n"
          ]
        }
      ],
      "source": [
        "# Install PySpark and Spark NLP\n",
        "! pip install -q pyspark==3.3.0 spark-nlp==4.2.8"
      ]
    },
    {
      "cell_type": "markdown",
      "metadata": {
        "id": "vb1y9TT8Ke_U"
      },
      "source": [
        "Import dependencies"
      ]
    },
    {
      "cell_type": "code",
      "execution_count": 2,
      "metadata": {
        "id": "WGMK0q_IIO_I"
      },
      "outputs": [],
      "source": [
        "import json\n",
        "import pandas as pd\n",
        "import numpy as np\n",
        "\n",
        "# Import pyspark\n",
        "from pyspark.sql import SparkSession\n",
        "from pyspark.sql.types import StringType, IntegerType\n",
        "from pyspark.ml import PipelineModel\n",
        "from pyspark.sql import functions as F\n",
        "\n",
        "# Import SparkNLP\n",
        "import sparknlp\n",
        "from sparknlp.annotator import *\n",
        "from sparknlp.base import *\n"
      ]
    },
    {
      "cell_type": "code",
      "source": [
        "# Start Spark session\n",
        "spark = sparknlp.start()\n",
        "\n",
        "print(\"Spark NLP version\", sparknlp.version())\n",
        "print(\"Apache Spark version:\", spark.version)\n",
        "\n",
        "spark"
      ],
      "metadata": {
        "colab": {
          "base_uri": "https://localhost:8080/",
          "height": 254
        },
        "id": "o-mW_NBwtMkg",
        "outputId": "775b40f7-db75-4b1d-ba39-04b8bd77cb3f"
      },
      "execution_count": 3,
      "outputs": [
        {
          "output_type": "stream",
          "name": "stdout",
          "text": [
            "Spark NLP version 4.2.8\n",
            "Apache Spark version: 3.3.0\n"
          ]
        },
        {
          "output_type": "execute_result",
          "data": {
            "text/plain": [
              "<pyspark.sql.session.SparkSession at 0x7c12a29cd360>"
            ],
            "text/html": [
              "\n",
              "            <div>\n",
              "                <p><b>SparkSession - in-memory</b></p>\n",
              "                \n",
              "        <div>\n",
              "            <p><b>SparkContext</b></p>\n",
              "\n",
              "            <p><a href=\"http://e2e68c38a394:4040\">Spark UI</a></p>\n",
              "\n",
              "            <dl>\n",
              "              <dt>Version</dt>\n",
              "                <dd><code>v3.3.0</code></dd>\n",
              "              <dt>Master</dt>\n",
              "                <dd><code>local[*]</code></dd>\n",
              "              <dt>AppName</dt>\n",
              "                <dd><code>Spark NLP</code></dd>\n",
              "            </dl>\n",
              "        </div>\n",
              "        \n",
              "            </div>\n",
              "        "
            ]
          },
          "metadata": {},
          "execution_count": 3
        }
      ]
    },
    {
      "cell_type": "markdown",
      "metadata": {
        "id": "JYDxs7_CMtpf"
      },
      "source": [
        "## 2. Inputs"
      ]
    },
    {
      "cell_type": "markdown",
      "metadata": {
        "id": "CLk2XcmDMwTI"
      },
      "source": [
        "Enter inputs as strings in this list.\n"
      ]
    },
    {
      "cell_type": "code",
      "execution_count": 4,
      "metadata": {
        "id": "c_L-3nRuM0d4"
      },
      "outputs": [],
      "source": [
        "input_list = [\n",
        "    \"\"\"If AI enables computers to think, computer vision enables them to see, observe and understand.\n",
        "\n",
        "Computer vision works much the same as human vision, except humans have a head start. Human sight has the advantage of lifetimes of context to train how to tell objects apart, how far away they are, whether they are moving or something is wrong with an image.\n",
        "\n",
        "Computer vision trains machines to perform these functions, but it must do it in much less time with cameras, data and algorithms rather than retinas, optic nerves and a visual cortex. Because a system trained to inspect products or watch a production asset can analyze thousands of products or processes a minute, noticing imperceptible defects or issues, it can quickly surpass human capabilities.\n",
        "\n",
        "Computer vision is used in industries that range from energy and utilities to manufacturing and automotive—and the market is continuing to grow. It is expected to reach USD 48.6 billion by 2022.1\n",
        "\n",
        "Guide\n",
        "Delve into our exclusive guide to the EU's CSRD\n",
        "With ESG disclosures starting as early as 2025 for some companies, make sure that you’re prepared with our guide.\n",
        "\n",
        "Related content\n",
        "Register for the playbook on smarter asset management\n",
        "\n",
        "\"\"\",\n",
        "\n",
        "    \"\"\"What is NLP?\n",
        "Natural language processing, or NLP, combines computational linguistics—rule-based modeling of human language—with statistical and machine learning models to enable computers and digital devices to recognize, understand and generate text and speech.\n",
        "\n",
        "A branch of artificial intelligence (AI), NLP lies at the heart of applications and devices that can\n",
        "\n",
        "translate text from one language to another\n",
        "respond to typed or spoken commands\n",
        "recognize or authenticate users based on voice\n",
        "summarize large volumes of text\n",
        "assess the intent or sentiment of text or speech\n",
        "generate text or graphics or other content on demand\n",
        "often in real time. Today most people have interacted with NLP in the form of voice-operated GPS systems, digital assistants, speech-to-text dictation software, customer service chatbots, and other consumer conveniences. But NLP also plays a growing role in enterprise solutions that help streamline and automate business operations, increase employee productivity, and simplify mission-critical business processes.\"\"\",\n",
        "\n",
        "    \"\"\"The Prague Quadrennial of Performance Design and Space was established in 1967 to bring the best of design for performance, scenography, and theatre architecture to the front line of cultural activities to be experienced by professional and emerging artists as well as the general public. The quadrennial exhibitions, festivals, and educational programs act as a global catalyst of creative progress by encouraging experimentation, networking, innovation, and future collaborations. PQ aims to honor, empower and celebrate the work of designers, artists and architects while inspiring and educating audiences, who are the most essential element of any live performance. The Prague Quadrennial strives to present performance design as an art form concerned with creation of active performance environments, that are far beyond merely decorative or beautiful, but emotionally charged, where design can become a quest, a question, an argument, a threat, a resolution, an agent of change, or a provocation. Performance design is a collaborative field where designers mix, fuse and blur the lines between multiple artistic disciplines to search for new approaches and new visions.\n",
        "\n",
        "The Prague Quadrennial organizes an expansive program of international projects and activities between the main quadrennial events – performances, exhibitions, symposia, workshops, residencies, and educational initiatives serve as an international platform for exploring the practice, theory and education of contemporary performance design in the most encompassing terms.\"\"\",\n",
        "\n",
        "    \"\"\"AWhat is AI?\n",
        "Artificial intelligence, or AI, is technology that enables computers and machines to simulate human intelligence and problem-solving capabilities.\n",
        "\n",
        "On its own or combined with other technologies (e.g., sensors, geolocation, robotics) AI can perform tasks that would otherwise require human intelligence or intervention. Digital assistants, GPS guidance, autonomous vehicles, and generative AI tools (like Open AI's Chat GPT) are just a few examples of AI in the daily news and our daily lives.\n",
        "\n",
        "As a field of computer science, artificial intelligence encompasses (and is often mentioned together with) machine learning and deep learning. These disciplines involve the development of AI algorithms, modeled after the decision-making processes of the human brain, that can ‘learn’ from available data and make increasingly more accurate classifications or predictions over time.\n",
        "\n",
        "Artificial intelligence has gone through many cycles of hype, but even to skeptics, the release of ChatGPT seems to mark a turning point. The last time generative AI loomed this large, the breakthroughs were in computer vision, but now the leap forward is in natural language processing (NLP). Today, generative AI can learn and synthesize not just human language but other data types including images, video, software code, and even molecular structures.\n",
        "\n",
        "Applications for AI are growing every day. But as the hype around the use of AI tools in business takes off, conversations around ai ethics and responsible ai become critically important. For more on where IBM stands on these issues, please read Building trust in AI.\"\"\",\n",
        "\n",
        "    \"\"\"North Ingria was located in the Karelian Isthmus, between Finland and Soviet Russia. It was established 23 January 1919. The republic was first served by a post office at the Rautu railway station on the Finnish side of the border. As the access across the border was mainly restricted, the North Ingrian postal service was finally launched in the early 1920. The man behind the idea was the lieutenant colonel Georg Elfvengren, head of the governing council of North Ingria. He was also known as an enthusiastic stamp collector. The post office was opened at the capital village of Kirjasalo.\n",
        "\n",
        "The first series of North Ingrian stamps were issued in 21 March 1920. They were based on the 1917 Finnish \"Model Saarinen\" series, a stamp designed by the Finnish architect Eliel Saarinen. The first series were soon sold to collectors, as the postage stamps became the major financial source of the North Ingrian government. The second series was designed for the North Ingrian postal service and issued 2 August 1920. The value of both series was in Finnish marks and similar to the postal fees of Finland. The number of letters sent from North Ingria was about 50 per day, most of them were carried to Finland. They were mainly sent by the personnel of the Finnish occupying forces. Large number of letters were also sent in pure philatelic purposes.\n",
        "\n",
        "With the Treaty of Tartu, the area was re-integrated into Soviet Russia and the use of the North Ingrian postage stamps ended in 4 December 1920. Stamps were still sold in Finland in 1921 with an overprinting \"Inkerin hyväksi\" (For the Ingria), but they were no longer valid. Funds of the sale went for the North Ingrian refugees.\"\"\"\n",
        "]"
      ]
    },
    {
      "cell_type": "markdown",
      "metadata": {
        "id": "J0zS5R_7MV7T"
      },
      "source": [
        "## 3. Pipeline creation"
      ]
    },
    {
      "cell_type": "code",
      "execution_count": 5,
      "metadata": {
        "id": "bpIz2L-bIO_Y"
      },
      "outputs": [],
      "source": [
        "# Transforms the raw text into a document readable by the later stages of the\n",
        "# pipeline\n",
        "document_assembler = DocumentAssembler() \\\n",
        "    .setInputCol('text') \\\n",
        "    .setOutputCol('document')\n",
        "\n",
        "# Separates the document into sentences\n",
        "sentence_detector = SentenceDetector() \\\n",
        "    .setInputCols(['document']) \\\n",
        "    .setOutputCol('sentences')# \\\n",
        "    #.setDetectLists(True)\n",
        "\n",
        "# Separates sentences into individial tokens (words)\n",
        "tokenizer = Tokenizer() \\\n",
        "    .setInputCols(['sentences']) \\\n",
        "    .setOutputCol('tokens') \\\n",
        "    .setContextChars(['(', ')', '?', '!', '.', ','])\n",
        "\n",
        "# The keyphrase extraction model. Change MinNGrams and MaxNGrams to set the\n",
        "# minimum and maximum length of possible keyphrases, and change NKeywords to\n",
        "# set the amount of potential keyphrases identified per document.\n",
        "keywords = YakeKeywordExtraction() \\\n",
        "    .setInputCols('tokens') \\\n",
        "    .setOutputCol('keywords') \\\n",
        "    .setMinNGrams(2) \\\n",
        "    .setMaxNGrams(5) \\\n",
        "    .setNKeywords(100) \\\n",
        "    .setStopWords(StopWordsCleaner().getStopWords())\n",
        "\n",
        "# Assemble all of these stages into a pipeline, then fit the pipeline on an\n",
        "# empty data frame so it can be used to transform new inputs.\n",
        "pipeline = Pipeline(stages=[\n",
        "    document_assembler,\n",
        "    sentence_detector,\n",
        "    tokenizer,\n",
        "    keywords\n",
        "])\n",
        "\n",
        "pipeline_model = pipeline.fit(spark.createDataFrame([[\"\"]]).toDF('text'))\n",
        "\n",
        "# LightPipeline is faster than Pipeline for small datasets\n",
        "light_pipeline = LightPipeline(pipeline_model)"
      ]
    },
    {
      "cell_type": "markdown",
      "metadata": {
        "id": "NZsaT1M_Mapv"
      },
      "source": [
        "## 4. Result creation"
      ]
    },
    {
      "cell_type": "code",
      "execution_count": 6,
      "metadata": {
        "id": "xR7dJVA53qKK"
      },
      "outputs": [],
      "source": [
        "def adjusted_score(row, pow=2.5):\n",
        "    \"\"\"This function adjusts the scores of potential key phrases to give better\n",
        "    scores to phrases with more words (which will naturally have worse scores\n",
        "    due to the nature of the model). You can change the exponent to reward\n",
        "    longer phrases more or less. Higher exponents reward longer phrases.\"\"\"\n",
        "    return ((row.result.count(' ') + 1) ** pow /\n",
        "            (float(row.metadata['score']) + 0.1))\n",
        "\n",
        "def get_top_ranges(phrases, input_text):\n",
        "    \"\"\"Combine phrases that overlap.\"\"\"\n",
        "    starts = sorted([row['begin'] for row in phrases])\n",
        "    ends = sorted([row['end'] for row in phrases])\n",
        "\n",
        "    ranges = [[starts[0], None]]\n",
        "    for i in range(len(starts) - 1):\n",
        "        if ends[i] < starts[i + 1]:\n",
        "            ranges[-1][1] = ends[i]\n",
        "            ranges.append([starts[i + 1], None])\n",
        "    ranges[-1][1] = ends[-1]\n",
        "    return [{\n",
        "        'begin': range[0],\n",
        "        'end': range[1],\n",
        "        'phrase': input_text[4][range[0]:range[1] + 1]  # [4] for last text\n",
        "     } for range in ranges]\n",
        "\n",
        "def remove_duplicates(phrases):\n",
        "    \"\"\"Remove phrases that appear multiple times.\"\"\"\n",
        "    i = 0\n",
        "    while i < len(phrases):\n",
        "        j = i + 1\n",
        "        while j < len(phrases):\n",
        "            if phrases[i]['phrase'] == phrases[j]['phrase']:\n",
        "                phrases.remove(phrases[j])\n",
        "            j += 1\n",
        "        i += 1\n",
        "\n",
        "    return phrases\n",
        "\n",
        "def get_output_lists(df_row):\n",
        "    \"\"\"Returns a tuple with two lists of five phrases each. The first combines\n",
        "    key phrases that overlap to create longer kep phrases, which is best for\n",
        "    highlighting key phrases in text, and the seocnd is simply the keyphrases\n",
        "    with the highest scores, which is best for summarizing a document.\"\"\"\n",
        "    keyphrases = []\n",
        "    for row in df_row.keywords[4]:      # [4] for last text\n",
        "        keyphrases.append({\n",
        "            'begin': row.begin,\n",
        "            'end': row.end,\n",
        "            'phrase': row.result,\n",
        "            'score': adjusted_score(row)\n",
        "        })\n",
        "    keyphrases = sorted(keyphrases, key=lambda x: x['score'], reverse=True)\n",
        "\n",
        "    return (\n",
        "        get_top_ranges(keyphrases[:20], df_row.text)[:5],\n",
        "        remove_duplicates(keyphrases[:10])[:5]\n",
        "    )"
      ]
    },
    {
      "cell_type": "markdown",
      "metadata": {
        "id": "u9EswUu9-vPo"
      },
      "source": [
        "Transform the example inputs to create a data frame storing the identified keyphrases."
      ]
    },
    {
      "cell_type": "code",
      "execution_count": 7,
      "metadata": {
        "id": "4YAV9JFfIO_f"
      },
      "outputs": [],
      "source": [
        "from pyspark.sql import Row\n",
        "\n",
        "# Convert the list of strings to a list of dictionaries with 'text' key\n",
        "input_dict_list = [{'text': text} for text in input_list]\n",
        "\n",
        "# Create a list of Row objects where each Row corresponds to a dictionary in input_dict_list\n",
        "rows = [Row(**i) for i in input_dict_list]\n",
        "\n",
        "# Create a DataFrame using the Row objects\n",
        "df = spark.createDataFrame(rows)\n",
        "\n",
        "# Now, proceed with the transformation\n",
        "result = pipeline_model.transform(df).toPandas()\n"
      ]
    },
    {
      "cell_type": "code",
      "execution_count": 8,
      "metadata": {
        "id": "ESgwFGz9rFR2"
      },
      "outputs": [],
      "source": [
        "top_ranges, top_summaries =  get_output_lists(result.loc[4:,[\"keywords\",\"text\"]])"
      ]
    },
    {
      "cell_type": "markdown",
      "metadata": {
        "id": "PIJtDyaRI6hh"
      },
      "source": [
        "## 5. Visualize outputs"
      ]
    },
    {
      "cell_type": "markdown",
      "metadata": {
        "id": "LaZpx6SaJCBN"
      },
      "source": [
        "The raw pandas data frame containing the outputs"
      ]
    },
    {
      "cell_type": "code",
      "execution_count": 9,
      "metadata": {
        "colab": {
          "base_uri": "https://localhost:8080/",
          "height": 293
        },
        "id": "mzgZwqv9I6Cl",
        "outputId": "24b36473-71e7-4273-f00c-072849b7c564"
      },
      "outputs": [
        {
          "output_type": "execute_result",
          "data": {
            "text/plain": [
              "                                                text  \\\n",
              "0  If AI enables computers to think, computer vis...   \n",
              "1  What is NLP?\\nNatural language processing, or ...   \n",
              "2  The Prague Quadrennial of Performance Design a...   \n",
              "3  AWhat is AI? \\nArtificial intelligence, or AI,...   \n",
              "4  North Ingria was located in the Karelian Isthm...   \n",
              "\n",
              "                                            document  \\\n",
              "0  [(document, 0, 1194, If AI enables computers t...   \n",
              "1  [(document, 0, 1041, What is NLP?\\nNatural lan...   \n",
              "2  [(document, 0, 1548, The Prague Quadrennial of...   \n",
              "3  [(document, 0, 1615, AWhat is AI? \\nArtificial...   \n",
              "4  [(document, 0, 1679, North Ingria was located ...   \n",
              "\n",
              "                                           sentences  \\\n",
              "0  [(document, 0, 93, If AI enables computers to ...   \n",
              "1  [(document, 0, 11, What is NLP?, {'sentence': ...   \n",
              "2  [(document, 0, 287, The Prague Quadrennial of ...   \n",
              "3  [(document, 0, 11, AWhat is AI?, {'sentence': ...   \n",
              "4  [(document, 0, 83, North Ingria was located in...   \n",
              "\n",
              "                                              tokens  \\\n",
              "0  [(token, 0, 1, If, {'sentence': '0'}, []), (to...   \n",
              "1  [(token, 0, 3, What, {'sentence': '0'}, []), (...   \n",
              "2  [(token, 0, 2, The, {'sentence': '0'}, []), (t...   \n",
              "3  [(token, 0, 4, AWhat, {'sentence': '0'}, []), ...   \n",
              "4  [(token, 0, 4, North, {'sentence': '0'}, []), ...   \n",
              "\n",
              "                                            keywords  \n",
              "0  [(chunk, 3, 12, ai enables, {'sentence': '0', ...  \n",
              "1  [(chunk, 13, 28, natural language, {'sentence'...  \n",
              "2  [(chunk, 4, 21, prague quadrennial, {'sentence...  \n",
              "3  [(chunk, 14, 36, artificial intelligence, {'se...  \n",
              "4  [(chunk, 0, 11, north ingria, {'sentence': '0'...  "
            ],
            "text/html": [
              "\n",
              "  <div id=\"df-28e9d43a-058e-43fd-8a61-dd86f600f524\" class=\"colab-df-container\">\n",
              "    <div>\n",
              "<style scoped>\n",
              "    .dataframe tbody tr th:only-of-type {\n",
              "        vertical-align: middle;\n",
              "    }\n",
              "\n",
              "    .dataframe tbody tr th {\n",
              "        vertical-align: top;\n",
              "    }\n",
              "\n",
              "    .dataframe thead th {\n",
              "        text-align: right;\n",
              "    }\n",
              "</style>\n",
              "<table border=\"1\" class=\"dataframe\">\n",
              "  <thead>\n",
              "    <tr style=\"text-align: right;\">\n",
              "      <th></th>\n",
              "      <th>text</th>\n",
              "      <th>document</th>\n",
              "      <th>sentences</th>\n",
              "      <th>tokens</th>\n",
              "      <th>keywords</th>\n",
              "    </tr>\n",
              "  </thead>\n",
              "  <tbody>\n",
              "    <tr>\n",
              "      <th>0</th>\n",
              "      <td>If AI enables computers to think, computer vis...</td>\n",
              "      <td>[(document, 0, 1194, If AI enables computers t...</td>\n",
              "      <td>[(document, 0, 93, If AI enables computers to ...</td>\n",
              "      <td>[(token, 0, 1, If, {'sentence': '0'}, []), (to...</td>\n",
              "      <td>[(chunk, 3, 12, ai enables, {'sentence': '0', ...</td>\n",
              "    </tr>\n",
              "    <tr>\n",
              "      <th>1</th>\n",
              "      <td>What is NLP?\\nNatural language processing, or ...</td>\n",
              "      <td>[(document, 0, 1041, What is NLP?\\nNatural lan...</td>\n",
              "      <td>[(document, 0, 11, What is NLP?, {'sentence': ...</td>\n",
              "      <td>[(token, 0, 3, What, {'sentence': '0'}, []), (...</td>\n",
              "      <td>[(chunk, 13, 28, natural language, {'sentence'...</td>\n",
              "    </tr>\n",
              "    <tr>\n",
              "      <th>2</th>\n",
              "      <td>The Prague Quadrennial of Performance Design a...</td>\n",
              "      <td>[(document, 0, 1548, The Prague Quadrennial of...</td>\n",
              "      <td>[(document, 0, 287, The Prague Quadrennial of ...</td>\n",
              "      <td>[(token, 0, 2, The, {'sentence': '0'}, []), (t...</td>\n",
              "      <td>[(chunk, 4, 21, prague quadrennial, {'sentence...</td>\n",
              "    </tr>\n",
              "    <tr>\n",
              "      <th>3</th>\n",
              "      <td>AWhat is AI? \\nArtificial intelligence, or AI,...</td>\n",
              "      <td>[(document, 0, 1615, AWhat is AI? \\nArtificial...</td>\n",
              "      <td>[(document, 0, 11, AWhat is AI?, {'sentence': ...</td>\n",
              "      <td>[(token, 0, 4, AWhat, {'sentence': '0'}, []), ...</td>\n",
              "      <td>[(chunk, 14, 36, artificial intelligence, {'se...</td>\n",
              "    </tr>\n",
              "    <tr>\n",
              "      <th>4</th>\n",
              "      <td>North Ingria was located in the Karelian Isthm...</td>\n",
              "      <td>[(document, 0, 1679, North Ingria was located ...</td>\n",
              "      <td>[(document, 0, 83, North Ingria was located in...</td>\n",
              "      <td>[(token, 0, 4, North, {'sentence': '0'}, []), ...</td>\n",
              "      <td>[(chunk, 0, 11, north ingria, {'sentence': '0'...</td>\n",
              "    </tr>\n",
              "  </tbody>\n",
              "</table>\n",
              "</div>\n",
              "    <div class=\"colab-df-buttons\">\n",
              "\n",
              "  <div class=\"colab-df-container\">\n",
              "    <button class=\"colab-df-convert\" onclick=\"convertToInteractive('df-28e9d43a-058e-43fd-8a61-dd86f600f524')\"\n",
              "            title=\"Convert this dataframe to an interactive table.\"\n",
              "            style=\"display:none;\">\n",
              "\n",
              "  <svg xmlns=\"http://www.w3.org/2000/svg\" height=\"24px\" viewBox=\"0 -960 960 960\">\n",
              "    <path d=\"M120-120v-720h720v720H120Zm60-500h600v-160H180v160Zm220 220h160v-160H400v160Zm0 220h160v-160H400v160ZM180-400h160v-160H180v160Zm440 0h160v-160H620v160ZM180-180h160v-160H180v160Zm440 0h160v-160H620v160Z\"/>\n",
              "  </svg>\n",
              "    </button>\n",
              "\n",
              "  <style>\n",
              "    .colab-df-container {\n",
              "      display:flex;\n",
              "      gap: 12px;\n",
              "    }\n",
              "\n",
              "    .colab-df-convert {\n",
              "      background-color: #E8F0FE;\n",
              "      border: none;\n",
              "      border-radius: 50%;\n",
              "      cursor: pointer;\n",
              "      display: none;\n",
              "      fill: #1967D2;\n",
              "      height: 32px;\n",
              "      padding: 0 0 0 0;\n",
              "      width: 32px;\n",
              "    }\n",
              "\n",
              "    .colab-df-convert:hover {\n",
              "      background-color: #E2EBFA;\n",
              "      box-shadow: 0px 1px 2px rgba(60, 64, 67, 0.3), 0px 1px 3px 1px rgba(60, 64, 67, 0.15);\n",
              "      fill: #174EA6;\n",
              "    }\n",
              "\n",
              "    .colab-df-buttons div {\n",
              "      margin-bottom: 4px;\n",
              "    }\n",
              "\n",
              "    [theme=dark] .colab-df-convert {\n",
              "      background-color: #3B4455;\n",
              "      fill: #D2E3FC;\n",
              "    }\n",
              "\n",
              "    [theme=dark] .colab-df-convert:hover {\n",
              "      background-color: #434B5C;\n",
              "      box-shadow: 0px 1px 3px 1px rgba(0, 0, 0, 0.15);\n",
              "      filter: drop-shadow(0px 1px 2px rgba(0, 0, 0, 0.3));\n",
              "      fill: #FFFFFF;\n",
              "    }\n",
              "  </style>\n",
              "\n",
              "    <script>\n",
              "      const buttonEl =\n",
              "        document.querySelector('#df-28e9d43a-058e-43fd-8a61-dd86f600f524 button.colab-df-convert');\n",
              "      buttonEl.style.display =\n",
              "        google.colab.kernel.accessAllowed ? 'block' : 'none';\n",
              "\n",
              "      async function convertToInteractive(key) {\n",
              "        const element = document.querySelector('#df-28e9d43a-058e-43fd-8a61-dd86f600f524');\n",
              "        const dataTable =\n",
              "          await google.colab.kernel.invokeFunction('convertToInteractive',\n",
              "                                                    [key], {});\n",
              "        if (!dataTable) return;\n",
              "\n",
              "        const docLinkHtml = 'Like what you see? Visit the ' +\n",
              "          '<a target=\"_blank\" href=https://colab.research.google.com/notebooks/data_table.ipynb>data table notebook</a>'\n",
              "          + ' to learn more about interactive tables.';\n",
              "        element.innerHTML = '';\n",
              "        dataTable['output_type'] = 'display_data';\n",
              "        await google.colab.output.renderOutput(dataTable, element);\n",
              "        const docLink = document.createElement('div');\n",
              "        docLink.innerHTML = docLinkHtml;\n",
              "        element.appendChild(docLink);\n",
              "      }\n",
              "    </script>\n",
              "  </div>\n",
              "\n",
              "\n",
              "<div id=\"df-17c9562a-bda0-4f76-86f8-c278b53dbfde\">\n",
              "  <button class=\"colab-df-quickchart\" onclick=\"quickchart('df-17c9562a-bda0-4f76-86f8-c278b53dbfde')\"\n",
              "            title=\"Suggest charts\"\n",
              "            style=\"display:none;\">\n",
              "\n",
              "<svg xmlns=\"http://www.w3.org/2000/svg\" height=\"24px\"viewBox=\"0 0 24 24\"\n",
              "     width=\"24px\">\n",
              "    <g>\n",
              "        <path d=\"M19 3H5c-1.1 0-2 .9-2 2v14c0 1.1.9 2 2 2h14c1.1 0 2-.9 2-2V5c0-1.1-.9-2-2-2zM9 17H7v-7h2v7zm4 0h-2V7h2v10zm4 0h-2v-4h2v4z\"/>\n",
              "    </g>\n",
              "</svg>\n",
              "  </button>\n",
              "\n",
              "<style>\n",
              "  .colab-df-quickchart {\n",
              "      --bg-color: #E8F0FE;\n",
              "      --fill-color: #1967D2;\n",
              "      --hover-bg-color: #E2EBFA;\n",
              "      --hover-fill-color: #174EA6;\n",
              "      --disabled-fill-color: #AAA;\n",
              "      --disabled-bg-color: #DDD;\n",
              "  }\n",
              "\n",
              "  [theme=dark] .colab-df-quickchart {\n",
              "      --bg-color: #3B4455;\n",
              "      --fill-color: #D2E3FC;\n",
              "      --hover-bg-color: #434B5C;\n",
              "      --hover-fill-color: #FFFFFF;\n",
              "      --disabled-bg-color: #3B4455;\n",
              "      --disabled-fill-color: #666;\n",
              "  }\n",
              "\n",
              "  .colab-df-quickchart {\n",
              "    background-color: var(--bg-color);\n",
              "    border: none;\n",
              "    border-radius: 50%;\n",
              "    cursor: pointer;\n",
              "    display: none;\n",
              "    fill: var(--fill-color);\n",
              "    height: 32px;\n",
              "    padding: 0;\n",
              "    width: 32px;\n",
              "  }\n",
              "\n",
              "  .colab-df-quickchart:hover {\n",
              "    background-color: var(--hover-bg-color);\n",
              "    box-shadow: 0 1px 2px rgba(60, 64, 67, 0.3), 0 1px 3px 1px rgba(60, 64, 67, 0.15);\n",
              "    fill: var(--button-hover-fill-color);\n",
              "  }\n",
              "\n",
              "  .colab-df-quickchart-complete:disabled,\n",
              "  .colab-df-quickchart-complete:disabled:hover {\n",
              "    background-color: var(--disabled-bg-color);\n",
              "    fill: var(--disabled-fill-color);\n",
              "    box-shadow: none;\n",
              "  }\n",
              "\n",
              "  .colab-df-spinner {\n",
              "    border: 2px solid var(--fill-color);\n",
              "    border-color: transparent;\n",
              "    border-bottom-color: var(--fill-color);\n",
              "    animation:\n",
              "      spin 1s steps(1) infinite;\n",
              "  }\n",
              "\n",
              "  @keyframes spin {\n",
              "    0% {\n",
              "      border-color: transparent;\n",
              "      border-bottom-color: var(--fill-color);\n",
              "      border-left-color: var(--fill-color);\n",
              "    }\n",
              "    20% {\n",
              "      border-color: transparent;\n",
              "      border-left-color: var(--fill-color);\n",
              "      border-top-color: var(--fill-color);\n",
              "    }\n",
              "    30% {\n",
              "      border-color: transparent;\n",
              "      border-left-color: var(--fill-color);\n",
              "      border-top-color: var(--fill-color);\n",
              "      border-right-color: var(--fill-color);\n",
              "    }\n",
              "    40% {\n",
              "      border-color: transparent;\n",
              "      border-right-color: var(--fill-color);\n",
              "      border-top-color: var(--fill-color);\n",
              "    }\n",
              "    60% {\n",
              "      border-color: transparent;\n",
              "      border-right-color: var(--fill-color);\n",
              "    }\n",
              "    80% {\n",
              "      border-color: transparent;\n",
              "      border-right-color: var(--fill-color);\n",
              "      border-bottom-color: var(--fill-color);\n",
              "    }\n",
              "    90% {\n",
              "      border-color: transparent;\n",
              "      border-bottom-color: var(--fill-color);\n",
              "    }\n",
              "  }\n",
              "</style>\n",
              "\n",
              "  <script>\n",
              "    async function quickchart(key) {\n",
              "      const quickchartButtonEl =\n",
              "        document.querySelector('#' + key + ' button');\n",
              "      quickchartButtonEl.disabled = true;  // To prevent multiple clicks.\n",
              "      quickchartButtonEl.classList.add('colab-df-spinner');\n",
              "      try {\n",
              "        const charts = await google.colab.kernel.invokeFunction(\n",
              "            'suggestCharts', [key], {});\n",
              "      } catch (error) {\n",
              "        console.error('Error during call to suggestCharts:', error);\n",
              "      }\n",
              "      quickchartButtonEl.classList.remove('colab-df-spinner');\n",
              "      quickchartButtonEl.classList.add('colab-df-quickchart-complete');\n",
              "    }\n",
              "    (() => {\n",
              "      let quickchartButtonEl =\n",
              "        document.querySelector('#df-17c9562a-bda0-4f76-86f8-c278b53dbfde button');\n",
              "      quickchartButtonEl.style.display =\n",
              "        google.colab.kernel.accessAllowed ? 'block' : 'none';\n",
              "    })();\n",
              "  </script>\n",
              "</div>\n",
              "\n",
              "  <div id=\"id_450672bf-f7cf-4cc3-93a9-3022fb1c72c3\">\n",
              "    <style>\n",
              "      .colab-df-generate {\n",
              "        background-color: #E8F0FE;\n",
              "        border: none;\n",
              "        border-radius: 50%;\n",
              "        cursor: pointer;\n",
              "        display: none;\n",
              "        fill: #1967D2;\n",
              "        height: 32px;\n",
              "        padding: 0 0 0 0;\n",
              "        width: 32px;\n",
              "      }\n",
              "\n",
              "      .colab-df-generate:hover {\n",
              "        background-color: #E2EBFA;\n",
              "        box-shadow: 0px 1px 2px rgba(60, 64, 67, 0.3), 0px 1px 3px 1px rgba(60, 64, 67, 0.15);\n",
              "        fill: #174EA6;\n",
              "      }\n",
              "\n",
              "      [theme=dark] .colab-df-generate {\n",
              "        background-color: #3B4455;\n",
              "        fill: #D2E3FC;\n",
              "      }\n",
              "\n",
              "      [theme=dark] .colab-df-generate:hover {\n",
              "        background-color: #434B5C;\n",
              "        box-shadow: 0px 1px 3px 1px rgba(0, 0, 0, 0.15);\n",
              "        filter: drop-shadow(0px 1px 2px rgba(0, 0, 0, 0.3));\n",
              "        fill: #FFFFFF;\n",
              "      }\n",
              "    </style>\n",
              "    <button class=\"colab-df-generate\" onclick=\"generateWithVariable('result')\"\n",
              "            title=\"Generate code using this dataframe.\"\n",
              "            style=\"display:none;\">\n",
              "\n",
              "  <svg xmlns=\"http://www.w3.org/2000/svg\" height=\"24px\"viewBox=\"0 0 24 24\"\n",
              "       width=\"24px\">\n",
              "    <path d=\"M7,19H8.4L18.45,9,17,7.55,7,17.6ZM5,21V16.75L18.45,3.32a2,2,0,0,1,2.83,0l1.4,1.43a1.91,1.91,0,0,1,.58,1.4,1.91,1.91,0,0,1-.58,1.4L9.25,21ZM18.45,9,17,7.55Zm-12,3A5.31,5.31,0,0,0,4.9,8.1,5.31,5.31,0,0,0,1,6.5,5.31,5.31,0,0,0,4.9,4.9,5.31,5.31,0,0,0,6.5,1,5.31,5.31,0,0,0,8.1,4.9,5.31,5.31,0,0,0,12,6.5,5.46,5.46,0,0,0,6.5,12Z\"/>\n",
              "  </svg>\n",
              "    </button>\n",
              "    <script>\n",
              "      (() => {\n",
              "      const buttonEl =\n",
              "        document.querySelector('#id_450672bf-f7cf-4cc3-93a9-3022fb1c72c3 button.colab-df-generate');\n",
              "      buttonEl.style.display =\n",
              "        google.colab.kernel.accessAllowed ? 'block' : 'none';\n",
              "\n",
              "      buttonEl.onclick = () => {\n",
              "        google.colab.notebook.generateWithVariable('result');\n",
              "      }\n",
              "      })();\n",
              "    </script>\n",
              "  </div>\n",
              "\n",
              "    </div>\n",
              "  </div>\n"
            ],
            "application/vnd.google.colaboratory.intrinsic+json": {
              "type": "dataframe",
              "variable_name": "result",
              "summary": "{\n  \"name\": \"result\",\n  \"rows\": 5,\n  \"fields\": [\n    {\n      \"column\": \"text\",\n      \"properties\": {\n        \"dtype\": \"string\",\n        \"num_unique_values\": 5,\n        \"samples\": [\n          \"What is NLP?\\nNatural language processing, or NLP, combines computational linguistics\\u2014rule-based modeling of human language\\u2014with statistical and machine learning models to enable computers and digital devices to recognize, understand and generate text and speech.\\n\\nA branch of artificial intelligence (AI), NLP lies at the heart of applications and devices that can\\n\\ntranslate text from one language to another\\nrespond to typed or spoken commands\\nrecognize or authenticate users based on voice\\nsummarize large volumes of text\\nassess the intent or sentiment of text or speech\\ngenerate text or graphics or other content on demand\\noften in real time. Today most people have interacted with NLP in the form of voice-operated GPS systems, digital assistants, speech-to-text dictation software, customer service chatbots, and other consumer conveniences. But NLP also plays a growing role in enterprise solutions that help streamline and automate business operations, increase employee productivity, and simplify mission-critical business processes.\",\n          \"North Ingria was located in the Karelian Isthmus, between Finland and Soviet Russia. It was established 23 January 1919. The republic was first served by a post office at the Rautu railway station on the Finnish side of the border. As the access across the border was mainly restricted, the North Ingrian postal service was finally launched in the early 1920. The man behind the idea was the lieutenant colonel Georg Elfvengren, head of the governing council of North Ingria. He was also known as an enthusiastic stamp collector. The post office was opened at the capital village of Kirjasalo.\\n\\nThe first series of North Ingrian stamps were issued in 21 March 1920. They were based on the 1917 Finnish \\\"Model Saarinen\\\" series, a stamp designed by the Finnish architect Eliel Saarinen. The first series were soon sold to collectors, as the postage stamps became the major financial source of the North Ingrian government. The second series was designed for the North Ingrian postal service and issued 2 August 1920. The value of both series was in Finnish marks and similar to the postal fees of Finland. The number of letters sent from North Ingria was about 50 per day, most of them were carried to Finland. They were mainly sent by the personnel of the Finnish occupying forces. Large number of letters were also sent in pure philatelic purposes.\\n\\nWith the Treaty of Tartu, the area was re-integrated into Soviet Russia and the use of the North Ingrian postage stamps ended in 4 December 1920. Stamps were still sold in Finland in 1921 with an overprinting \\\"Inkerin hyv\\u00e4ksi\\\" (For the Ingria), but they were no longer valid. Funds of the sale went for the North Ingrian refugees.\",\n          \"The Prague Quadrennial of Performance Design and Space was established in 1967 to bring the best of design for performance, scenography, and theatre architecture to the front line of cultural activities to be experienced by professional and emerging artists as well as the general public. The quadrennial exhibitions, festivals, and educational programs act as a global catalyst of creative progress by encouraging experimentation, networking, innovation, and future collaborations. PQ aims to honor, empower and celebrate the work of designers, artists and architects while inspiring and educating audiences, who are the most essential element of any live performance. The Prague Quadrennial strives to present performance design as an art form concerned with creation of active performance environments, that are far beyond merely decorative or beautiful, but emotionally charged, where design can become a quest, a question, an argument, a threat, a resolution, an agent of change, or a provocation. Performance design is a collaborative field where designers mix, fuse and blur the lines between multiple artistic disciplines to search for new approaches and new visions.\\n\\nThe Prague Quadrennial organizes an expansive program of international projects and activities between the main quadrennial events \\u2013 performances, exhibitions, symposia, workshops, residencies, and educational initiatives serve as an international platform for exploring the practice, theory and education of contemporary performance design in the most encompassing terms.\"\n        ],\n        \"semantic_type\": \"\",\n        \"description\": \"\"\n      }\n    },\n    {\n      \"column\": \"document\",\n      \"properties\": {\n        \"dtype\": \"object\",\n        \"semantic_type\": \"\",\n        \"description\": \"\"\n      }\n    },\n    {\n      \"column\": \"sentences\",\n      \"properties\": {\n        \"dtype\": \"object\",\n        \"semantic_type\": \"\",\n        \"description\": \"\"\n      }\n    },\n    {\n      \"column\": \"tokens\",\n      \"properties\": {\n        \"dtype\": \"object\",\n        \"semantic_type\": \"\",\n        \"description\": \"\"\n      }\n    },\n    {\n      \"column\": \"keywords\",\n      \"properties\": {\n        \"dtype\": \"object\",\n        \"semantic_type\": \"\",\n        \"description\": \"\"\n      }\n    }\n  ]\n}"
            }
          },
          "metadata": {},
          "execution_count": 9
        }
      ],
      "source": [
        "result"
      ]
    },
    {
      "cell_type": "markdown",
      "metadata": {
        "id": "6EbaXFSRJX8s"
      },
      "source": [
        "The list of the top keyphrases (with overlapping keyphrases merged) for the last example"
      ]
    },
    {
      "cell_type": "code",
      "execution_count": 10,
      "metadata": {
        "colab": {
          "base_uri": "https://localhost:8080/"
        },
        "id": "a5j9LTWLJI_L",
        "outputId": "c6ffdba8-0df8-41ec-a30b-8b8b258a3a14"
      },
      "outputs": [
        {
          "output_type": "execute_result",
          "data": {
            "text/plain": [
              "[{'begin': 0, 'end': 11, 'phrase': 'North Ingria'},\n",
              " {'begin': 291, 'end': 318, 'phrase': 'North Ingrian postal service'},\n",
              " {'begin': 462, 'end': 473, 'phrase': 'North Ingria'},\n",
              " {'begin': 599, 'end': 634, 'phrase': 'first series of North Ingrian stamps'},\n",
              " {'begin': 895, 'end': 918, 'phrase': 'North Ingrian government'}]"
            ]
          },
          "metadata": {},
          "execution_count": 10
        }
      ],
      "source": [
        "top_ranges"
      ]
    },
    {
      "cell_type": "markdown",
      "metadata": {
        "id": "3SrNEDaOJl6V"
      },
      "source": [
        "The list of the best summary kephrases (with duplicates removed) for the last example"
      ]
    },
    {
      "cell_type": "code",
      "execution_count": 11,
      "metadata": {
        "colab": {
          "base_uri": "https://localhost:8080/"
        },
        "id": "C0I68Le1JM_8",
        "outputId": "ef10e54b-585e-4230-9dae-3a78f9dfa882"
      },
      "outputs": [
        {
          "output_type": "execute_result",
          "data": {
            "text/plain": [
              "[{'begin': 291,\n",
              "  'end': 310,\n",
              "  'phrase': 'north ingrian postal',\n",
              "  'score': 59.43933549489857},\n",
              " {'begin': 291,\n",
              "  'end': 318,\n",
              "  'phrase': 'north ingrian postal service',\n",
              "  'score': 55.25119651613854},\n",
              " {'begin': 291,\n",
              "  'end': 303,\n",
              "  'phrase': 'north ingrian',\n",
              "  'score': 41.928576798395355},\n",
              " {'begin': 895,\n",
              "  'end': 907,\n",
              "  'phrase': 'north ingrian',\n",
              "  'score': 41.928576798395355}]"
            ]
          },
          "metadata": {},
          "execution_count": 11
        }
      ],
      "source": [
        "top_summaries"
      ]
    },
    {
      "cell_type": "code",
      "source": [],
      "metadata": {
        "id": "nPO4yjRGVCX0"
      },
      "execution_count": null,
      "outputs": []
    }
  ],
  "metadata": {
    "colab": {
      "provenance": [],
      "include_colab_link": true
    },
    "interpreter": {
      "hash": "45150093197569bb3a58481dcd32cd1adb45462fa3448719e8ac38ada6166aca"
    },
    "kernelspec": {
      "display_name": "Python 3.6.10 64-bit ('tensorflow2_p36': conda)",
      "name": "python3"
    },
    "language_info": {
      "codemirror_mode": {
        "name": "ipython",
        "version": 3
      },
      "file_extension": ".py",
      "mimetype": "text/x-python",
      "name": "python",
      "nbconvert_exporter": "python",
      "pygments_lexer": "ipython3",
      "version": "3.6.10"
    }
  },
  "nbformat": 4,
  "nbformat_minor": 0
}